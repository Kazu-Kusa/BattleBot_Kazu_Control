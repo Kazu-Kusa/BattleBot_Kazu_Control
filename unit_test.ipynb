{
 "cells": [
  {
   "cell_type": "code",
   "execution_count": null,
   "outputs": [],
   "source": [
    "from repo.uptechStar.module.close_loop_controller import CloseLoopController\n",
    "from repo.uptechStar.constant import MOTOR_DIRS, MOTOR_IDS\n",
    "\n",
    "controller = CloseLoopController(motor_ids=MOTOR_IDS,\n",
    "                                 motor_dirs=MOTOR_DIRS,\n",
    "                                 port='COM1',\n",
    "                                 debug=False)\n",
    "\n",
    "controller.open_userInput_channel()\n",
    "\n",
    "\n",
    "\n"
   ],
   "metadata": {
    "collapsed": false
   }
  },
  {
   "cell_type": "code",
   "execution_count": null,
   "outputs": [],
   "source": [
    "from repo.uptechStar.module.actions import ActionFrame, ActionPlayer\n",
    "\n",
    "#动作帧内定义了一个最小的动作单元，可以通过多个动作帧的嵌套组合来实现复杂的链式动作\n",
    "#动作帧内置了持久化缓存功能，会将生成过的动作帧加入缓存目录，下次相同的生成请求出现时会直接返回缓存对象\n",
    "\n",
    "\n",
    "#创建动作帧播放器对象\n",
    "player = ActionPlayer()\n",
    "\n",
    "#向plyer播放队列中注入一个动作帧，并马上播放，这里未向动作帧对象初始化传递参数，代表停止动作帧\n",
    "player.append(action=ActionFrame(),\n",
    "              play_now=True)\n",
    "\n",
    "#生成一个动作帧列表，这里实现的是一个以1000速度前进300ms后停止运动，无动作中断，动作过程中不挂起串口通信\n",
    "tape = [ActionFrame(action_speed=(1000, 1000, 1000, 1000),\n",
    "                    action_duration=300,\n",
    "                    breaker_func=None,\n",
    "                    break_action=None,\n",
    "                    hang_time=0.),\n",
    "        ActionFrame()]\n",
    "\n",
    "#注入动作帧列表到播放队列，并马上播放\n",
    "player.extend(actions=tape,\n",
    "              play_now=True)\n"
   ],
   "metadata": {
    "collapsed": false,
    "is_executing": true
   }
  },
  {
   "cell_type": "code",
   "execution_count": null,
   "outputs": [],
   "source": [
    "from repo.uptechStar.module.actions import new_ActionFrame, ActionPlayer\n",
    "\n",
    "\"\"\"\n",
    "接下来使用动作帧工厂函数来生成动作帧\n",
    "动作帧工厂生成相比与直接使用实例生成具有一些额外功能\n",
    "1. 支持使用multiplier，动作速度和动作时间均可接受multiplier\n",
    "2. 同时也具有持久化缓存的功能，与动作帧内置的持久化缓存逻辑是一致的，用来减少相同实例的创建时间\n",
    "3. 支持3种不同方式的动作速度输入分别是【全轮控制】【左右轮组分别控制】【四轮分别控制】\n",
    "4. 支持自动计算串口挂起时间,注意，这里不能手动直接给出具体的挂起时间，只能决定是否使用挂起，当未指定是否使用该功能时，会在未指定breaker时激活自动挂起的功能\n",
    "\"\"\"\n",
    "\n",
    "#创建动作帧播放器对象\n",
    "player = ActionPlayer()\n",
    "\n",
    "#动作帧工厂默认返回停止动作帧，这里会使得车辆停止\n",
    "player.append(action=new_ActionFrame(),\n",
    "              play_now=True)\n",
    "\n",
    "#动作帧工厂的创建方式和直接使用类创建大体是类似的\n",
    "\n",
    "#1.使用全轮控制的模式，直接给定一个整型便代表所有轮子的速度，轮子的速度为正会让车前进，为负会让车后退\n",
    "player.append(action=new_ActionFrame(action_speed=2000,\n",
    "                                     action_speed_multiplier=1.2,\n",
    "                                     action_duration=500,\n",
    "                                     action_duration_multiplier=1.2,\n",
    "                                     breaker_func=None,\n",
    "                                     break_action=None,\n",
    "                                     hang_during_action=True),\n",
    "              play_now=True)\n",
    "\n",
    "#2.使用左右轮组分别控制，直接给定一个Tuple[int, int]便分别按次序代表左边轮组，右边轮组的速度，同理轮子的速度为正会让车前进，为负会让车后退\n",
    "player.append(action=new_ActionFrame(action_speed=(2000, 2800),\n",
    "                                     action_speed_multiplier=1.2,\n",
    "                                     action_duration=500,\n",
    "                                     action_duration_multiplier=1.2,\n",
    "                                     breaker_func=None,\n",
    "                                     break_action=None,\n",
    "                                     hang_during_action=True),\n",
    "              play_now=True)\n",
    "\n",
    "#3.四轮分别控制，直接给定一个Tuple[int, int, int, int]便分别按次序代表fl,rl,rr,fr轮子的速度，同理轮子的速度为正会让车前进，为负会让车后退\n",
    "player.append(action=new_ActionFrame(action_speed=(2000, 2800, 5000, 6000),\n",
    "                                     action_speed_multiplier=1.2,\n",
    "                                     action_duration=500,\n",
    "                                     action_duration_multiplier=1.2,\n",
    "                                     breaker_func=None,\n",
    "                                     break_action=None,\n",
    "                                     hang_during_action=True),\n",
    "              play_now=True)"
   ],
   "metadata": {
    "collapsed": false
   }
  },
  {
   "cell_type": "code",
   "execution_count": null,
   "outputs": [],
   "source": [
    "import random\n",
    "import time\n",
    "from matplotlib import pyplot as plt\n",
    "\n",
    "from repo.uptechStar.module.db_tools import persistent_cache\n",
    "from repo.uptechStar.module.algrithm_tools import bake_to_cache, performance_evaluate\n",
    "\n",
    "\n",
    "#测试缓存的性能影响\n",
    "@persistent_cache('cache')\n",
    "def my_function(x):\n",
    "    print(\"Calculating...\")\n",
    "    time.sleep(0.01)\n",
    "    return x + 1\n",
    "\n",
    "\n",
    "def learning_curve(function=my_function, multiplier: int = 2, laps: int = 20):\n",
    "    op_durations_list = []\n",
    "\n",
    "    for _ in range(laps):\n",
    "        start_time = time.time()\n",
    "        for i in range(256):\n",
    "            # 第一次调用会计算并缓存结果\n",
    "            print(function(random.randint(0, 256 * multiplier)))\n",
    "        op_durations_list.append(time.time() - start_time)\n",
    "    plt.plot(range(laps), op_durations_list)\n",
    "    plt.show()\n",
    "\n",
    "\n",
    "# learning_curve(multiplier=10)\n",
    "# bake_to_cache()\n",
    "performance_evaluate()"
   ],
   "metadata": {
    "collapsed": false
   }
  }
 ],
 "metadata": {
  "kernelspec": {
   "display_name": "Python 3",
   "language": "python",
   "name": "python3"
  },
  "language_info": {
   "codemirror_mode": {
    "name": "ipython",
    "version": 2
   },
   "file_extension": ".py",
   "mimetype": "text/x-python",
   "name": "python",
   "nbconvert_exporter": "python",
   "pygments_lexer": "ipython2",
   "version": "2.7.6"
  }
 },
 "nbformat": 4,
 "nbformat_minor": 0
}
